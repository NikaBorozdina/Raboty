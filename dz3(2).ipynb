{
 "cells": [
  {
   "cell_type": "code",
   "execution_count": 1,
   "metadata": {},
   "outputs": [
    {
     "name": "stdout",
     "output_type": "stream",
     "text": [
      "Введите число8\n",
      "Введите число9\n",
      "8\n",
      "Введите число9\n",
      "17\n",
      "Введите число0\n",
      "26\n"
     ]
    }
   ],
   "source": [
    "#задача 2:\n",
    "b=0\n",
    "x = int(input ('Введите число'))\n",
    "while x !=0:\n",
    "    b+=x\n",
    "    x = int(input ('Введите число'))\n",
    "    print (b)"
   ]
  },
  {
   "cell_type": "code",
   "execution_count": 17,
   "metadata": {},
   "outputs": [
    {
     "name": "stdout",
     "output_type": "stream",
     "text": [
      "0 Danil erika\n",
      "1 Ignat katy\n",
      "2 koly mary\n",
      "3 oleg xenya\n"
     ]
    }
   ],
   "source": [
    "#задача 3\n",
    "boys = ['Danil', 'Ignat','oleg','koly']\n",
    "girls = ['erika','katy','mary','xenya']\n",
    "if len(boys) == len(girls):\n",
    "    boys1 = sorted(boys)\n",
    "    girls1 = sorted(girls)\n",
    "    for i in range(len(boys1)):\n",
    "        print (i,boys1[i],girls1[i])\n",
    "else :\n",
    "    print ('не хватает пары')\n",
    "    "
   ]
  },
  {
   "cell_type": "code",
   "execution_count": 33,
   "metadata": {},
   "outputs": [
    {
     "name": "stdout",
     "output_type": "stream",
     "text": [
      "Thailand - 23.85714285714285\n",
      "Germany - 13.799999999999999\n",
      "Russia - 3.714285714285717\n",
      "Poland - 11.999999999999996\n"
     ]
    }
   ],
   "source": [
    "#задача 4\n",
    "countries_temperature = [['Thailand', [75.2, 77, 78.8, 73.4, 68, 75.2, 77]],['Germany', [57.2, 55.4, 59, 59, 53.6]],['Russia', [35.6, 37.4, 39.2, 41, 42.8, 39.2, 35.6]],['Poland', [50, 50, 53.6, 57.2, 55.4, 55.4]]]\n",
    "for i in range(len(countries_temperature)):\n",
    "    a = countries_temperature[i]\n",
    "    print(a[0],'-',(sum(a[1])/len(a[1])-32)*5/9)\n",
    "\n",
    "\n"
   ]
  },
  {
   "cell_type": "code",
   "execution_count": 49,
   "metadata": {},
   "outputs": [
    {
     "name": "stdout",
     "output_type": "stream",
     "text": [
      "введите словоgjhn\n",
      "j h\n"
     ]
    }
   ],
   "source": [
    "#задача 1\n",
    "word = input ('введите слово')\n",
    "if len(word) % 2 ==  0:\n",
    "    a = int(len(word)/2)\n",
    "    print (word[a-1],word[a])\n",
    "else:\n",
    "    print (word[a-1])\n"
   ]
  },
  {
   "cell_type": "code",
   "execution_count": null,
   "metadata": {},
   "outputs": [],
   "source": []
  }
 ],
 "metadata": {
  "kernelspec": {
   "display_name": "Python 3",
   "language": "python",
   "name": "python3"
  },
  "language_info": {
   "codemirror_mode": {
    "name": "ipython",
    "version": 3
   },
   "file_extension": ".py",
   "mimetype": "text/x-python",
   "name": "python",
   "nbconvert_exporter": "python",
   "pygments_lexer": "ipython3",
   "version": "3.7.6"
  }
 },
 "nbformat": 4,
 "nbformat_minor": 4
}
